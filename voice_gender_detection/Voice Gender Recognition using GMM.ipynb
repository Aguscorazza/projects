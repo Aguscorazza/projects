{
 "cells": [
  {
   "cell_type": "markdown",
   "id": "5e69d750",
   "metadata": {},
   "source": [
    "# Voice Gender Recognition\n",
    "Gender recognition by voice is a technique in which you can determine the gender category of a speaker by processing speech signals."
   ]
  },
  {
   "cell_type": "markdown",
   "id": "aa9f0eb0",
   "metadata": {},
   "source": [
    "## Preparing the Dataset\n",
    "We'll be using Mozilla's Common Voice Dataset, a corpus of speech data read by users on the Common Voice website. Its purpose is to enable the training and testing of automatic speech recognition. However, after I took a look at the dataset, many of the samples were labeled in the genre column. Therefore, we can extract these labeled samples and perform gender recognition.\n",
    "\n",
    "We won't be using raw audio data since audio samples can be of any length and can be problematic in terms of noise. As a result, we need to perform some feature extraction before feeding it into the neural network. Here are the steps done to prepare our dataset:\n",
    "\n",
    "- First, I've only filtered the labeled samples in the genre field. \n",
    "- After that, I've balanced the dataset so that the number of female samples is equal to male samples; this will help the model not overfit on a particular gender.\n",
    "- Finally, I've used the Mel Spectrogram extraction technique to get a vector of the length 128 from each voice sample."
   ]
  },
  {
   "cell_type": "code",
   "execution_count": 1,
   "id": "662d059f",
   "metadata": {},
   "outputs": [],
   "source": [
    "import numpy as np\n",
    "import shutil\n",
    "import librosa\n",
    "from tqdm import tqdm\n",
    "\n",
    "def extract_feature(file_name, **kwargs):\n",
    "    \"\"\"\n",
    "    Extract feature from audio file `file_name`\n",
    "        Features supported:\n",
    "            - MFCC (mfcc)\n",
    "            - Chroma (chroma)\n",
    "            - MEL Spectrogram Frequency (mel)\n",
    "            - Contrast (contrast)\n",
    "            - Tonnetz (tonnetz)\n",
    "        e.g:\n",
    "        `features = extract_feature(path, mel=True, mfcc=True)`\n",
    "    \"\"\"\n",
    "    mfcc = kwargs.get(\"mfcc\")\n",
    "    chroma = kwargs.get(\"chroma\")\n",
    "    mel = kwargs.get(\"mel\")\n",
    "    contrast = kwargs.get(\"contrast\")\n",
    "    tonnetz = kwargs.get(\"tonnetz\")\n",
    "    X, sample_rate = librosa.core.load(file_name)\n",
    "    if chroma or contrast:\n",
    "        stft = np.abs(librosa.stft(X))\n",
    "    result = np.array([])\n",
    "    if mfcc:\n",
    "        mfccs = np.mean(librosa.feature.mfcc(y=X, sr=sample_rate, n_mfcc=40).T, axis=0)\n",
    "        result = np.hstack((result, mfccs))\n",
    "    if chroma:\n",
    "        chroma = np.mean(librosa.feature.chroma_stft(S=stft, sr=sample_rate).T,axis=0)\n",
    "        result = np.hstack((result, chroma))\n",
    "    if mel:\n",
    "        mel = np.mean(librosa.feature.melspectrogram(y=X, sr=sample_rate).T,axis=0)\n",
    "        result = np.hstack((result, mel))\n",
    "    if contrast:\n",
    "        contrast = np.mean(librosa.feature.spectral_contrast(S=stft, sr=sample_rate).T,axis=0)\n",
    "        result = np.hstack((result, contrast))\n",
    "    if tonnetz:\n",
    "        tonnetz = np.mean(librosa.feature.tonnetz(y=librosa.effects.harmonic(X), sr=sample_rate).T,axis=0)\n",
    "        result = np.hstack((result, tonnetz))\n",
    "    return result"
   ]
  },
  {
   "cell_type": "code",
   "execution_count": 2,
   "id": "3a0947de",
   "metadata": {},
   "outputs": [],
   "source": [
    "import glob\n",
    "import os\n",
    "import pandas as pd\n",
    "from sklearn.utils import resample\n",
    "\n",
    "def prepare_dataset():\n",
    "    \"\"\"\n",
    "    This function will prepare and preprocess the dataset. The original dataset must be in the working directory in order\n",
    "    order to be preprocessed. After the execution of this function the new dataset will be in the data directory.\n",
    "    \"\"\"\n",
    "    \n",
    "    dirname = \"data\"\n",
    "    if not os.path.exists(os.path.join(dirname, \"balanced_dataset.csv\")):\n",
    "        if not os.path.isdir(dirname):\n",
    "            os.mkdir(dirname)\n",
    "\n",
    "        csv_files = glob.glob(\"*.csv\")\n",
    "\n",
    "        balanced_dataset = pd.DataFrame()\n",
    "\n",
    "        for i, csv_file in enumerate(csv_files):\n",
    "            print(f\"[+] Preprocessing {csv_file}\")\n",
    "            df = pd.read_csv(csv_file)\n",
    "\n",
    "            # only take filename and gender columns\n",
    "            new_df = df[[\"filename\", \"gender\"]]\n",
    "\n",
    "            print(\"Previously:\", len(new_df), \"rows\")\n",
    "            # take only male & female genders (i.e droping NaNs & 'other' gender)\n",
    "            new_df = new_df[np.logical_or(new_df['gender'] == 'female', new_df['gender'] == 'male')]\n",
    "            print(\"Now:\", len(new_df), \"rows\")\n",
    "\n",
    "            majority_class = new_df[new_df[\"gender\"] == new_df[\"gender\"].value_counts().idxmax()]\n",
    "            minority_class = new_df[new_df[\"gender\"] == new_df[\"gender\"].value_counts().idxmin()]\n",
    "\n",
    "            print(\"Before Balancing:\")\n",
    "            print(new_df[\"gender\"].value_counts())\n",
    "\n",
    "            undersampled_majority = resample(majority_class,\n",
    "                                     replace=False,  # Without replacement\n",
    "                                     n_samples=new_df[\"gender\"].value_counts()[-1],  # Match minority class size\n",
    "                                     random_state=42)  # Set random seed for reproducibility\n",
    "\n",
    "            # Combine the undersampled majority class with the minority class\n",
    "            balanced_data = pd.concat([undersampled_majority, minority_class])\n",
    "\n",
    "            print(\"After Balancing:\")\n",
    "            print(balanced_data[\"gender\"].value_counts())\n",
    "\n",
    "             # Concatenate the data from the current file to the existing concatenated_data\n",
    "            balanced_dataset = pd.concat([balanced_dataset, balanced_data], ignore_index=True)\n",
    "\n",
    "            # get the folder name\n",
    "            folder_name, _ = csv_file.split(\".\")\n",
    "            audio_files = glob.glob(f\"{folder_name}/{folder_name}/*\")\n",
    "            all_audio_filenames = set(balanced_data[\"filename\"])\n",
    "\n",
    "            for i, audio_file in tqdm(list(enumerate(audio_files)), f\"Extracting features of {folder_name}\"):\n",
    "                splited = os.path.split(audio_file)\n",
    "                audio_filename = f\"{os.path.split(splited[0])[-1]}/{splited[-1]}\"\n",
    "                if audio_filename in all_audio_filenames:\n",
    "                    src_path = f\"{folder_name}/{audio_filename}\"\n",
    "                    target_path = f\"{dirname}/{audio_filename}\"\n",
    "                    #create that folder if it doesn't exist\n",
    "                    if not os.path.isdir(os.path.dirname(target_path)):\n",
    "                        os.mkdir(os.path.dirname(target_path))\n",
    "                    features = extract_feature(src_path, mel=True)\n",
    "                    target_filename = target_path.split(\".\")[0]\n",
    "                    np.save(target_filename, features)\n",
    "\n",
    "        balanced_dataset.to_csv(os.path.join(dirname, \"balanced_dataset.csv\"), index=False)\n",
    "    else:\n",
    "        print(f\"Balanced dataset already exists. {os.path.join(dirname, \"balanced_dataset.csv\")}\")\n"
   ]
  },
  {
   "cell_type": "code",
   "execution_count": 3,
   "id": "bb6aa27b",
   "metadata": {
    "scrolled": true
   },
   "outputs": [
    {
     "name": "stdout",
     "output_type": "stream",
     "text": [
      "[+] Preprocessing cv-other-dev.csv\n",
      "Previously: 3022 rows\n",
      "Now: 1342 rows\n",
      "Before Balancing:\n",
      "male      1034\n",
      "female     308\n",
      "Name: gender, dtype: int64\n",
      "After Balancing:\n",
      "male      308\n",
      "female    308\n",
      "Name: gender, dtype: int64\n"
     ]
    },
    {
     "name": "stderr",
     "output_type": "stream",
     "text": [
      "Extracting features of cv-other-dev: 100%|████████████████████████████████████████| 3022/3022 [00:18<00:00, 162.47it/s]\n"
     ]
    },
    {
     "name": "stdout",
     "output_type": "stream",
     "text": [
      "[+] Preprocessing cv-other-test.csv\n",
      "Previously: 2961 rows\n",
      "Now: 1272 rows\n",
      "Before Balancing:\n",
      "male      1001\n",
      "female     271\n",
      "Name: gender, dtype: int64\n",
      "After Balancing:\n",
      "male      271\n",
      "female    271\n",
      "Name: gender, dtype: int64\n"
     ]
    },
    {
     "name": "stderr",
     "output_type": "stream",
     "text": [
      "Extracting features of cv-other-test: 100%|███████████████████████████████████████| 2961/2961 [00:18<00:00, 161.19it/s]\n"
     ]
    },
    {
     "name": "stdout",
     "output_type": "stream",
     "text": [
      "[+] Preprocessing cv-other-train.csv\n",
      "Previously: 145135 rows\n",
      "Now: 63253 rows\n",
      "Before Balancing:\n",
      "male      49398\n",
      "female    13855\n",
      "Name: gender, dtype: int64\n",
      "After Balancing:\n",
      "male      13855\n",
      "female    13855\n",
      "Name: gender, dtype: int64\n"
     ]
    },
    {
     "name": "stderr",
     "output_type": "stream",
     "text": [
      "Extracting features of cv-other-train: 100%|██████████████████████████████████| 145135/145135 [11:55<00:00, 202.75it/s]\n"
     ]
    },
    {
     "name": "stdout",
     "output_type": "stream",
     "text": [
      "[+] Preprocessing cv-valid-dev.csv\n",
      "Previously: 4076 rows\n",
      "Now: 1529 rows\n",
      "Before Balancing:\n",
      "male      1135\n",
      "female     394\n",
      "Name: gender, dtype: int64\n",
      "After Balancing:\n",
      "male      394\n",
      "female    394\n",
      "Name: gender, dtype: int64\n"
     ]
    },
    {
     "name": "stderr",
     "output_type": "stream",
     "text": [
      "Extracting features of cv-valid-dev: 100%|████████████████████████████████████████| 4076/4076 [00:19<00:00, 213.83it/s]\n"
     ]
    },
    {
     "name": "stdout",
     "output_type": "stream",
     "text": [
      "[+] Preprocessing cv-valid-test.csv\n",
      "Previously: 3995 rows\n",
      "Now: 1529 rows\n",
      "Before Balancing:\n",
      "male      1137\n",
      "female     392\n",
      "Name: gender, dtype: int64\n",
      "After Balancing:\n",
      "male      392\n",
      "female    392\n",
      "Name: gender, dtype: int64\n"
     ]
    },
    {
     "name": "stderr",
     "output_type": "stream",
     "text": [
      "Extracting features of cv-valid-test: 100%|███████████████████████████████████████| 3995/3995 [00:18<00:00, 213.30it/s]\n"
     ]
    },
    {
     "name": "stdout",
     "output_type": "stream",
     "text": [
      "[+] Preprocessing cv-valid-train.csv\n",
      "Previously: 195776 rows\n",
      "Now: 73278 rows\n",
      "Before Balancing:\n",
      "male      55029\n",
      "female    18249\n",
      "Name: gender, dtype: int64\n",
      "After Balancing:\n",
      "male      18249\n",
      "female    18249\n",
      "Name: gender, dtype: int64\n"
     ]
    },
    {
     "name": "stderr",
     "output_type": "stream",
     "text": [
      "Extracting features of cv-valid-train: 100%|██████████████████████████████████| 195776/195776 [15:54<00:00, 205.12it/s]\n"
     ]
    }
   ],
   "source": [
    "prepare_dataset()"
   ]
  }
 ],
 "metadata": {
  "kernelspec": {
   "display_name": "Python 3 (ipykernel)",
   "language": "python",
   "name": "python3"
  },
  "language_info": {
   "codemirror_mode": {
    "name": "ipython",
    "version": 3
   },
   "file_extension": ".py",
   "mimetype": "text/x-python",
   "name": "python",
   "nbconvert_exporter": "python",
   "pygments_lexer": "ipython3",
   "version": "3.10.12"
  }
 },
 "nbformat": 4,
 "nbformat_minor": 5
}
