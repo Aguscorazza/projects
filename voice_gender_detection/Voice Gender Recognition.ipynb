{
 "cells": [
  {
   "cell_type": "markdown",
   "id": "5e69d750",
   "metadata": {},
   "source": [
    "# Voice Gender Recognition\n",
    "Gender recognition by voice is a technique in which you can determine the gender category of a speaker by processing speech signals. The dataset consists of a series of audio files where we will try to determine whether the speaker is a man or a woman.\n",
    "\n",
    "Since we can't feed an audio file to a ML model, we will need to extract some features from the speech signals. Some techniques are **Mel Spectrogram** and **Mel Frequency Cepstral Coefficients (MFCC)**. These are closely related audio feature extraction techniques, and MFCC is actually derived from the Mel spectrogram. In fact, MFCC are a compact representation of the spectral information and capture the shape of the power spectrum by taking the discrete cosine transform (DCT) of the log Mel filterbank coefficients. As a result, MFCCs represent the spectral envelope of the audio signal. \n",
    "\n",
    "### Mel Spectrogram\n",
    "\n",
    "The Mel spectrogram is a common feature extraction technique used in audio signal processing and speech recognition. It is derived from the traditional spectrogram but employs a non-linear scale called the Mel scale to better approximate human auditory perception.\n",
    "\n",
    "We need to understand 3 core concepts while working with speech signals:\n",
    "\n",
    "#### Framing\n",
    "\n",
    "Since speech is a non-stationary signal, its frequency contents are continuously changing with time. In order to do any sort of analysis of the signal, such as knowing its frequency contents for short time intervals (known as Short Term Fourier Transform of the signal), we need to be able to view it as a stationary signal. To achieve this stationarity, the speech signal is divided into short frames of duration 20 to 30 milliseconds, as the shape of our vocal tract can be assumed to be unvarying for such small intervals of time. Frames shorter than this duration won’t have enough samples to give a good estimate of the frequency components, while in longer frames the signal may change too much within the frame that the condition of stationary no more holds.\n",
    "\n",
    "#### Windowing\n",
    "\n",
    "Extracting raw frames from a speech signal can lead to discontinuities towards the endpoints due to non-integer number of periods in the extracted waveform, which will then lead to an erroneous frequency representation (known as spectral leakage in signal processing lingo). This is prevented by multiplying a window function with the speech frame. A window function’s amplitude gradually falls to zero towards its two end and thus this multiplication minimizes the amplitude of the above mentioned discontinuities.\n",
    "\n",
    "![Window Speech Signal](img/window.png)\n",
    "\n",
    "#### Overlapping frames\n",
    "\n",
    "Due to windowing, we are actually losing the samples towards the beginning and the end of the frame; this too will lead to an incorrect frequency representation. To compensate for this loss, we take overlapping frames rather than disjoint frames, so that the samples lost from the end of the ith frame and the beginning of the (i+1)th frame are wholly included in the frame formed by the overlap between these 2 frames. The overlap between frames is generally taken to be of 10-15 ms.\n",
    "\n",
    "![Overlap Speech Signal](img/overlap.png)\n",
    "\n",
    "All these things are taken into consideration in the `librosa` Python package, so we will use this package directly.\n",
    "\n",
    "### MFCC\n",
    "MFCCs are a set of coefficients that capture the spectral characteristics of audio signals, emphasizing the aspects of sound that are most relevant for human perception and speech recognition. These coefficients have been widely used in various audio-related applications due to their effectiveness in representing audio features. **These coefficients are obtained from the MEL spectrogram.**"
   ]
  },
  {
   "cell_type": "markdown",
   "id": "aa9f0eb0",
   "metadata": {},
   "source": [
    "## Preparing the Dataset\n",
    "We'll be using Mozilla's Common Voice Dataset, a corpus of speech data read by users on the Common Voice website. Its purpose is to enable the training and testing of automatic speech recognition. However, after I took a look at the dataset, many of the samples were labeled in the genre column. Therefore, we can extract these labeled samples and perform gender recognition.\n",
    "\n",
    "We won't be using raw audio data since audio samples can be of any length and can be problematic in terms of noise. As a result, we need to perform some feature extraction before feeding it into the neural network. Here are the steps done to prepare our dataset:\n",
    "\n",
    "- First, I've only filtered the labeled samples in the genre field. \n",
    "- After that, I've balanced the dataset so that the number of female samples is equal to male samples; this will help the model not overfit on a particular gender.\n",
    "- Finally, I've used Mel Spectrogram and MFCC feature extraction techniques to get a vector of the length 168 from each voice sample."
   ]
  },
  {
   "cell_type": "code",
   "execution_count": 1,
   "id": "662d059f",
   "metadata": {},
   "outputs": [],
   "source": [
    "import numpy as np\n",
    "import shutil\n",
    "import librosa\n",
    "from tqdm import tqdm\n",
    "\n",
    "def extract_feature(file_name, **kwargs):\n",
    "    \"\"\"\n",
    "    Extract feature from audio file `file_name`\n",
    "        Features supported:\n",
    "            - MFCC (mfcc)\n",
    "            - Chroma (chroma)\n",
    "            - MEL Spectrogram Frequency (mel)\n",
    "            - Contrast (contrast)\n",
    "            - Tonnetz (tonnetz)\n",
    "        e.g:\n",
    "        `features = extract_feature(path, mel=True, mfcc=True)`\n",
    "    \"\"\"\n",
    "    mfcc = kwargs.get(\"mfcc\")\n",
    "    chroma = kwargs.get(\"chroma\")\n",
    "    mel = kwargs.get(\"mel\")\n",
    "    contrast = kwargs.get(\"contrast\")\n",
    "    tonnetz = kwargs.get(\"tonnetz\")\n",
    "    X, sample_rate = librosa.core.load(file_name)\n",
    "    if chroma or contrast:\n",
    "        stft = np.abs(librosa.stft(X))\n",
    "    result = np.array([])\n",
    "    if mfcc:\n",
    "        mfccs = np.mean(librosa.feature.mfcc(y=X, sr=sample_rate, n_mfcc=40).T, axis=0)\n",
    "        result = np.hstack((result, mfccs))\n",
    "    if chroma:\n",
    "        chroma = np.mean(librosa.feature.chroma_stft(S=stft, sr=sample_rate).T,axis=0)\n",
    "        result = np.hstack((result, chroma))\n",
    "    if mel:\n",
    "        mel = np.mean(librosa.feature.melspectrogram(y=X, sr=sample_rate).T,axis=0)\n",
    "        result = np.hstack((result, mel))\n",
    "    if contrast:\n",
    "        contrast = np.mean(librosa.feature.spectral_contrast(S=stft, sr=sample_rate).T,axis=0)\n",
    "        result = np.hstack((result, contrast))\n",
    "    if tonnetz:\n",
    "        tonnetz = np.mean(librosa.feature.tonnetz(y=librosa.effects.harmonic(X), sr=sample_rate).T,axis=0)\n",
    "        result = np.hstack((result, tonnetz))\n",
    "    return result"
   ]
  },
  {
   "cell_type": "code",
   "execution_count": 2,
   "id": "3a0947de",
   "metadata": {},
   "outputs": [],
   "source": [
    "import glob\n",
    "import os\n",
    "import pandas as pd\n",
    "from sklearn.utils import resample\n",
    "\n",
    "def prepare_dataset():\n",
    "    \"\"\"\n",
    "    This function will prepare and preprocess the dataset. The original dataset must be in the working directory in order\n",
    "    order to be preprocessed. After the execution of this function the new dataset will be in the data directory.\n",
    "    \"\"\"\n",
    "    \n",
    "    def change_path(filepath):\n",
    "        filename, _ = filepath.rsplit('.', 1)  # Split filename and extension\n",
    "        return f\"data/{filename}.npy\"\n",
    "    \n",
    "    dirname = \"data\"\n",
    "    if not os.path.exists(os.path.join(dirname, \"balanced_dataset.csv\")):\n",
    "        if not os.path.isdir(dirname):\n",
    "            os.mkdir(dirname)\n",
    "\n",
    "        csv_files = glob.glob(\"*.csv\")\n",
    "\n",
    "        balanced_dataset = pd.DataFrame()\n",
    "\n",
    "        for i, csv_file in enumerate(csv_files):\n",
    "            print(f\"[+] Preprocessing {csv_file}\")\n",
    "            df = pd.read_csv(csv_file)\n",
    "\n",
    "            # only take filename and gender columns\n",
    "            new_df = df[[\"filename\", \"gender\"]]\n",
    "\n",
    "            print(\"Previously:\", len(new_df), \"rows\")\n",
    "            # take only male & female genders (i.e droping NaNs & 'other' gender)\n",
    "            new_df = new_df[np.logical_or(new_df['gender'] == 'female', new_df['gender'] == 'male')]\n",
    "            print(\"Now:\", len(new_df), \"rows\")\n",
    "\n",
    "            majority_class = new_df[new_df[\"gender\"] == new_df[\"gender\"].value_counts().idxmax()]\n",
    "            minority_class = new_df[new_df[\"gender\"] == new_df[\"gender\"].value_counts().idxmin()]\n",
    "\n",
    "            print(\"Before Balancing:\")\n",
    "            print(new_df[\"gender\"].value_counts())\n",
    "\n",
    "            undersampled_majority = resample(majority_class,\n",
    "                                     replace=False,  # Without replacement\n",
    "                                     n_samples=new_df[\"gender\"].value_counts()[-1],  # Match minority class size\n",
    "                                     random_state=42)  # Set random seed for reproducibility\n",
    "\n",
    "            # Combine the undersampled majority class with the minority class\n",
    "            balanced_data = pd.concat([undersampled_majority, minority_class])\n",
    "            \n",
    "            \n",
    "            print(\"After Balancing:\")\n",
    "            print(balanced_data[\"gender\"].value_counts())\n",
    "\n",
    "\n",
    "             # Concatenate the data from the current file to the existing concatenated_data\n",
    "            balanced_dataset = pd.concat([balanced_dataset, balanced_data], ignore_index=True)\n",
    "            \n",
    "            # get the folder name\n",
    "            folder_name, _ = csv_file.split(\".\")\n",
    "            audio_files = glob.glob(f\"{folder_name}/{folder_name}/*\")\n",
    "            all_audio_filenames = set(balanced_data[\"filename\"])\n",
    "\n",
    "            for i, audio_file in tqdm(list(enumerate(audio_files)), f\"Extracting features of {folder_name}\"):\n",
    "                splited = os.path.split(audio_file)\n",
    "                audio_filename = f\"{os.path.split(splited[0])[-1]}/{splited[-1]}\"\n",
    "                if audio_filename in all_audio_filenames:\n",
    "                    src_path = f\"{folder_name}/{audio_filename}\"\n",
    "                    target_path = f\"{dirname}/{audio_filename}\"\n",
    "                    #create that folder if it doesn't exist\n",
    "                    if not os.path.isdir(os.path.dirname(target_path)):\n",
    "                        os.mkdir(os.path.dirname(target_path))\n",
    "                    features = extract_feature(src_path, mel=True, mfcc=True)\n",
    "                    target_filename = target_path.split(\".\")[0]\n",
    "                    np.save(target_filename, features)\n",
    "\n",
    "        balanced_dataset['filename'] = balanced_dataset['filename'].apply(change_path)        \n",
    "        balanced_dataset.to_csv(os.path.join(dirname, \"balanced_dataset.csv\"), index=False)\n",
    "        \n",
    "    else:\n",
    "        print(f\"Balanced dataset already exists. {os.path.join(dirname, 'balanced_dataset.csv')}\")\n",
    "    return os.path.join(dirname, 'balanced_dataset.csv')\n"
   ]
  },
  {
   "cell_type": "code",
   "execution_count": 3,
   "id": "bb6aa27b",
   "metadata": {
    "scrolled": true
   },
   "outputs": [
    {
     "name": "stdout",
     "output_type": "stream",
     "text": [
      "[+] Preprocessing cv-other-dev.csv\n",
      "Previously: 3022 rows\n",
      "Now: 1342 rows\n",
      "Before Balancing:\n",
      "male      1034\n",
      "female     308\n",
      "Name: gender, dtype: int64\n",
      "After Balancing:\n",
      "male      308\n",
      "female    308\n",
      "Name: gender, dtype: int64\n"
     ]
    },
    {
     "name": "stderr",
     "output_type": "stream",
     "text": [
      "Extracting features of cv-other-dev: 100%|█████████████████████████████████████████| 3022/3022 [00:30<00:00, 99.71it/s]\n"
     ]
    },
    {
     "name": "stdout",
     "output_type": "stream",
     "text": [
      "[+] Preprocessing cv-other-test.csv\n",
      "Previously: 2961 rows\n",
      "Now: 1272 rows\n",
      "Before Balancing:\n",
      "male      1001\n",
      "female     271\n",
      "Name: gender, dtype: int64\n",
      "After Balancing:\n",
      "male      271\n",
      "female    271\n",
      "Name: gender, dtype: int64\n"
     ]
    },
    {
     "name": "stderr",
     "output_type": "stream",
     "text": [
      "Extracting features of cv-other-test: 100%|███████████████████████████████████████| 2961/2961 [00:29<00:00, 100.01it/s]\n"
     ]
    },
    {
     "name": "stdout",
     "output_type": "stream",
     "text": [
      "[+] Preprocessing cv-other-train.csv\n",
      "Previously: 145135 rows\n",
      "Now: 63253 rows\n",
      "Before Balancing:\n",
      "male      49398\n",
      "female    13855\n",
      "Name: gender, dtype: int64\n",
      "After Balancing:\n",
      "male      13855\n",
      "female    13855\n",
      "Name: gender, dtype: int64\n"
     ]
    },
    {
     "name": "stderr",
     "output_type": "stream",
     "text": [
      "Extracting features of cv-other-train: 100%|██████████████████████████████████| 145135/145135 [19:48<00:00, 122.07it/s]\n"
     ]
    },
    {
     "name": "stdout",
     "output_type": "stream",
     "text": [
      "[+] Preprocessing cv-valid-dev.csv\n",
      "Previously: 4076 rows\n",
      "Now: 1529 rows\n",
      "Before Balancing:\n",
      "male      1135\n",
      "female     394\n",
      "Name: gender, dtype: int64\n",
      "After Balancing:\n",
      "male      394\n",
      "female    394\n",
      "Name: gender, dtype: int64\n"
     ]
    },
    {
     "name": "stderr",
     "output_type": "stream",
     "text": [
      "Extracting features of cv-valid-dev: 100%|█████████████████████████████████████████| 4076/4076 [00:44<00:00, 91.27it/s]\n"
     ]
    },
    {
     "name": "stdout",
     "output_type": "stream",
     "text": [
      "[+] Preprocessing cv-valid-test.csv\n",
      "Previously: 3995 rows\n",
      "Now: 1529 rows\n",
      "Before Balancing:\n",
      "male      1137\n",
      "female     392\n",
      "Name: gender, dtype: int64\n",
      "After Balancing:\n",
      "male      392\n",
      "female    392\n",
      "Name: gender, dtype: int64\n"
     ]
    },
    {
     "name": "stderr",
     "output_type": "stream",
     "text": [
      "Extracting features of cv-valid-test: 100%|███████████████████████████████████████| 3995/3995 [00:39<00:00, 101.25it/s]\n"
     ]
    },
    {
     "name": "stdout",
     "output_type": "stream",
     "text": [
      "[+] Preprocessing cv-valid-train.csv\n",
      "Previously: 195776 rows\n",
      "Now: 73278 rows\n",
      "Before Balancing:\n",
      "male      55029\n",
      "female    18249\n",
      "Name: gender, dtype: int64\n",
      "After Balancing:\n",
      "male      18249\n",
      "female    18249\n",
      "Name: gender, dtype: int64\n"
     ]
    },
    {
     "name": "stderr",
     "output_type": "stream",
     "text": [
      "Extracting features of cv-valid-train: 100%|██████████████████████████████████| 195776/195776 [23:30<00:00, 138.81it/s]\n"
     ]
    }
   ],
   "source": [
    "data_path = prepare_dataset()"
   ]
  },
  {
   "cell_type": "markdown",
   "id": "193a456d",
   "metadata": {},
   "source": [
    "## Load the Data"
   ]
  },
  {
   "cell_type": "code",
   "execution_count": 4,
   "id": "09606ccc",
   "metadata": {},
   "outputs": [
    {
     "data": {
      "text/html": [
       "<div>\n",
       "<style scoped>\n",
       "    .dataframe tbody tr th:only-of-type {\n",
       "        vertical-align: middle;\n",
       "    }\n",
       "\n",
       "    .dataframe tbody tr th {\n",
       "        vertical-align: top;\n",
       "    }\n",
       "\n",
       "    .dataframe thead th {\n",
       "        text-align: right;\n",
       "    }\n",
       "</style>\n",
       "<table border=\"1\" class=\"dataframe\">\n",
       "  <thead>\n",
       "    <tr style=\"text-align: right;\">\n",
       "      <th></th>\n",
       "      <th>filename</th>\n",
       "      <th>gender</th>\n",
       "    </tr>\n",
       "  </thead>\n",
       "  <tbody>\n",
       "    <tr>\n",
       "      <th>0</th>\n",
       "      <td>data/cv-other-dev/sample-000797.npy</td>\n",
       "      <td>male</td>\n",
       "    </tr>\n",
       "    <tr>\n",
       "      <th>1</th>\n",
       "      <td>data/cv-other-dev/sample-001265.npy</td>\n",
       "      <td>male</td>\n",
       "    </tr>\n",
       "    <tr>\n",
       "      <th>2</th>\n",
       "      <td>data/cv-other-dev/sample-001849.npy</td>\n",
       "      <td>male</td>\n",
       "    </tr>\n",
       "    <tr>\n",
       "      <th>3</th>\n",
       "      <td>data/cv-other-dev/sample-000375.npy</td>\n",
       "      <td>male</td>\n",
       "    </tr>\n",
       "    <tr>\n",
       "      <th>4</th>\n",
       "      <td>data/cv-other-dev/sample-001519.npy</td>\n",
       "      <td>male</td>\n",
       "    </tr>\n",
       "  </tbody>\n",
       "</table>\n",
       "</div>"
      ],
      "text/plain": [
       "                              filename gender\n",
       "0  data/cv-other-dev/sample-000797.npy   male\n",
       "1  data/cv-other-dev/sample-001265.npy   male\n",
       "2  data/cv-other-dev/sample-001849.npy   male\n",
       "3  data/cv-other-dev/sample-000375.npy   male\n",
       "4  data/cv-other-dev/sample-001519.npy   male"
      ]
     },
     "execution_count": 4,
     "metadata": {},
     "output_type": "execute_result"
    }
   ],
   "source": [
    "df = pd.read_csv(data_path)\n",
    "df.head()"
   ]
  },
  {
   "cell_type": "markdown",
   "id": "bc8c6d28",
   "metadata": {},
   "source": [
    "Let's see how many instances of each gender we have in our dataset:"
   ]
  },
  {
   "cell_type": "code",
   "execution_count": 5,
   "id": "d590bdef",
   "metadata": {},
   "outputs": [
    {
     "name": "stdout",
     "output_type": "stream",
     "text": [
      "Total samples: 66938\n",
      "Total male samples: 33469\n",
      "Total female samples: 33469\n"
     ]
    }
   ],
   "source": [
    "# get total samples\n",
    "n_samples = len(df)\n",
    "# get total male samples\n",
    "n_male_samples = len(df[df['gender'] == 'male'])\n",
    "# get total female samples\n",
    "n_female_samples = len(df[df['gender'] == 'female'])\n",
    "print(\"Total samples:\", n_samples)\n",
    "print(\"Total male samples:\", n_male_samples)\n",
    "print(\"Total female samples:\", n_female_samples)"
   ]
  },
  {
   "cell_type": "markdown",
   "id": "5ee810ce",
   "metadata": {},
   "source": [
    "Perfect, a large number of balanced audio samples. The following function loads all the files into a single array; we don't need any generation mechanism as it fits the memory (since each audio sample is only the extracted feature with the size of 1KB):"
   ]
  },
  {
   "cell_type": "code",
   "execution_count": 8,
   "id": "ff0a7de8",
   "metadata": {},
   "outputs": [],
   "source": [
    "label2int = {\n",
    "    \"male\": 1,\n",
    "    \"female\": 0\n",
    "}\n",
    "\n",
    "def load_data(data_path, vector_length=168):\n",
    "    \"\"\"\n",
    "    A function to load gender recognition dataset from `data` folder\n",
    "    After the second run, this will load from results/features.npy and results/labels.npy files\n",
    "    as it is much faster\n",
    "    \"\"\"\n",
    "    \n",
    "    if not os.path.isdir(\"results\"):\n",
    "        os.mkdir(\"results\")\n",
    "        \n",
    "    # if features & labels already loaded individually and bundled, load them from there instead\n",
    "    if os.path.isfile(\"results/features.npy\") and os.path.isfile(\"results/labels.npy\"):\n",
    "        X = np.load(\"results/features.npy\")\n",
    "        y = np.load(\"results/labels.npy\")\n",
    "        return X, y\n",
    "    \n",
    "    df = pd.read_csv(data_path)\n",
    "    n_samples = len(df)\n",
    "    n_male_samples = len(df[df['gender'] == 'male'])\n",
    "    n_female_samples = len(df[df['gender'] == 'female'])\n",
    "    \n",
    "    # Print number of samples\n",
    "    print(\"Total samples:\", n_samples)\n",
    "    print(\"Total male samples:\", n_male_samples)\n",
    "    print(\"Total female samples:\", n_female_samples)\n",
    "    \n",
    "    # initialize an empty array for all audio features\n",
    "    X = np.zeros((n_samples, vector_length))\n",
    "    # initialize an empty array for all audio labels (1 for male and 0 for female)\n",
    "    y = np.zeros((n_samples, 1))\n",
    "    for i, (filename, gender) in tqdm(enumerate(zip(df['filename'], df['gender'])), \"Loading data\", total=n_samples):\n",
    "        features = np.load(filename)\n",
    "        X[i] = features\n",
    "        y[i] = label2int[gender]\n",
    "    # save the audio features and labels into files\n",
    "    # so we won't load each one of them next run\n",
    "    np.save(\"results/features\", X)\n",
    "    np.save(\"results/labels\", y)\n",
    "    return X, y"
   ]
  },
  {
   "cell_type": "markdown",
   "id": "03543317",
   "metadata": {},
   "source": [
    "`label2int` dictionary simply maps each gender to an integer value; we need it in the load_data() function to translate string labels to integer labels. Let's run this function, this may take some time the first time:"
   ]
  },
  {
   "cell_type": "code",
   "execution_count": 9,
   "id": "6ad309cd",
   "metadata": {},
   "outputs": [
    {
     "name": "stdout",
     "output_type": "stream",
     "text": [
      "Total samples: 66938\n",
      "Total male samples: 33469\n",
      "Total female samples: 33469\n"
     ]
    },
    {
     "name": "stderr",
     "output_type": "stream",
     "text": [
      "Loading data: 100%|████████████████████████████████████████████████████████████| 66938/66938 [00:24<00:00, 2703.27it/s]\n"
     ]
    }
   ],
   "source": [
    "# load the dataset\n",
    "X, y = load_data(data_path)"
   ]
  },
  {
   "cell_type": "markdown",
   "id": "7da2d03c",
   "metadata": {},
   "source": [
    "Now, this is a single array, but we need to split our dataset into training, testing, and validation sets. The below function is doing that:"
   ]
  },
  {
   "cell_type": "code",
   "execution_count": 10,
   "id": "5633d1cd",
   "metadata": {},
   "outputs": [],
   "source": [
    "from sklearn.model_selection import train_test_split\n",
    "\n",
    "\n",
    "def split_data(X, y, test_size=0.1, valid_size=0.1):\n",
    "    # split training set and testing set\n",
    "    X_train, X_test, y_train, y_test = train_test_split(X, y, test_size=test_size, random_state=7)\n",
    "    # split training set and validation set\n",
    "    X_train, X_valid, y_train, y_valid = train_test_split(X_train, y_train, test_size=valid_size, random_state=7)\n",
    "    # return a dictionary of values\n",
    "    return {\n",
    "        \"X_train\": X_train,\n",
    "        \"X_valid\": X_valid,\n",
    "        \"X_test\": X_test,\n",
    "        \"y_train\": y_train,\n",
    "        \"y_valid\": y_valid,\n",
    "        \"y_test\": y_test\n",
    "    }"
   ]
  },
  {
   "cell_type": "code",
   "execution_count": 11,
   "id": "1888da1b",
   "metadata": {},
   "outputs": [],
   "source": [
    "# split the data into training, validation and testing sets\n",
    "data = split_data(X, y, test_size=0.1, valid_size=0.1)"
   ]
  },
  {
   "cell_type": "markdown",
   "id": "06699aff",
   "metadata": {},
   "source": [
    "## Build the model"
   ]
  },
  {
   "cell_type": "markdown",
   "id": "ac99c43d",
   "metadata": {},
   "source": [
    "We are going to use a deep feed-forward neural network with 5 hidden layers, it isn't the perfect architecture, but it should give a decent accuracy."
   ]
  },
  {
   "cell_type": "code",
   "execution_count": 12,
   "id": "c2f79d67",
   "metadata": {},
   "outputs": [],
   "source": [
    "from tensorflow.keras.models import Sequential\n",
    "from tensorflow.keras.layers import Dense, LSTM, Dropout\n",
    "from tensorflow.keras.callbacks import ModelCheckpoint, EarlyStopping\n",
    "\n",
    "\n",
    "def create_model(vector_length):\n",
    "    model = Sequential()\n",
    "    model.add(Dense(256, input_shape=(vector_length,)))\n",
    "    model.add(Dropout(0.3))\n",
    "    model.add(Dense(256, activation=\"relu\"))\n",
    "    model.add(Dropout(0.3))\n",
    "    model.add(Dense(128, activation=\"relu\"))\n",
    "    model.add(Dropout(0.3))\n",
    "    model.add(Dense(128, activation=\"relu\"))\n",
    "    model.add(Dropout(0.3))\n",
    "    model.add(Dense(64, activation=\"relu\"))\n",
    "    model.add(Dropout(0.3))\n",
    "    # one output neuron with sigmoid activation function, 0 means female, 1 means male\n",
    "    model.add(Dense(1, activation=\"sigmoid\"))\n",
    "    # using binary crossentropy as it's male/female classification (binary)\n",
    "    model.compile(loss=\"binary_crossentropy\", metrics=[\"accuracy\"], optimizer=\"adam\")\n",
    "    # print summary of the model\n",
    "    model.summary()\n",
    "    return model"
   ]
  },
  {
   "cell_type": "code",
   "execution_count": 13,
   "id": "b0e26c00",
   "metadata": {},
   "outputs": [
    {
     "name": "stdout",
     "output_type": "stream",
     "text": [
      "Model: \"sequential\"\n",
      "_________________________________________________________________\n",
      " Layer (type)                Output Shape              Param #   \n",
      "=================================================================\n",
      " dense (Dense)               (None, 256)               43264     \n",
      "                                                                 \n",
      " dropout (Dropout)           (None, 256)               0         \n",
      "                                                                 \n",
      " dense_1 (Dense)             (None, 256)               65792     \n",
      "                                                                 \n",
      " dropout_1 (Dropout)         (None, 256)               0         \n",
      "                                                                 \n",
      " dense_2 (Dense)             (None, 128)               32896     \n",
      "                                                                 \n",
      " dropout_2 (Dropout)         (None, 128)               0         \n",
      "                                                                 \n",
      " dense_3 (Dense)             (None, 128)               16512     \n",
      "                                                                 \n",
      " dropout_3 (Dropout)         (None, 128)               0         \n",
      "                                                                 \n",
      " dense_4 (Dense)             (None, 64)                8256      \n",
      "                                                                 \n",
      " dropout_4 (Dropout)         (None, 64)                0         \n",
      "                                                                 \n",
      " dense_5 (Dense)             (None, 1)                 65        \n",
      "                                                                 \n",
      "=================================================================\n",
      "Total params: 166,785\n",
      "Trainable params: 166,785\n",
      "Non-trainable params: 0\n",
      "_________________________________________________________________\n"
     ]
    }
   ],
   "source": [
    "# construct the model\n",
    "model = create_model(X.shape[-1])"
   ]
  },
  {
   "cell_type": "markdown",
   "id": "44deff11",
   "metadata": {},
   "source": [
    "## Train the model\n",
    "Now that we have built the model, let's train it using the previously loaded dataset:"
   ]
  },
  {
   "cell_type": "code",
   "execution_count": 14,
   "id": "b82eaebc",
   "metadata": {
    "scrolled": true
   },
   "outputs": [
    {
     "name": "stdout",
     "output_type": "stream",
     "text": [
      "Epoch 1/100\n",
      "848/848 [==============================] - 7s 6ms/step - loss: 0.7435 - accuracy: 0.7023 - val_loss: 0.3041 - val_accuracy: 0.8802\n",
      "Epoch 2/100\n",
      "848/848 [==============================] - 5s 6ms/step - loss: 0.3280 - accuracy: 0.8749 - val_loss: 0.2788 - val_accuracy: 0.8956\n",
      "Epoch 3/100\n",
      "848/848 [==============================] - 5s 6ms/step - loss: 0.2971 - accuracy: 0.8903 - val_loss: 0.2797 - val_accuracy: 0.8969\n",
      "Epoch 4/100\n",
      "848/848 [==============================] - 5s 6ms/step - loss: 0.2786 - accuracy: 0.8955 - val_loss: 0.2616 - val_accuracy: 0.9046\n",
      "Epoch 5/100\n",
      "848/848 [==============================] - 5s 6ms/step - loss: 0.2615 - accuracy: 0.9036 - val_loss: 0.2433 - val_accuracy: 0.9114\n",
      "Epoch 6/100\n",
      "848/848 [==============================] - 5s 6ms/step - loss: 0.2560 - accuracy: 0.9067 - val_loss: 0.2360 - val_accuracy: 0.9110\n",
      "Epoch 7/100\n",
      "848/848 [==============================] - 5s 6ms/step - loss: 0.2446 - accuracy: 0.9097 - val_loss: 0.2279 - val_accuracy: 0.9159\n",
      "Epoch 8/100\n",
      "848/848 [==============================] - 5s 6ms/step - loss: 0.2386 - accuracy: 0.9136 - val_loss: 0.2147 - val_accuracy: 0.9223\n",
      "Epoch 9/100\n",
      "848/848 [==============================] - 5s 6ms/step - loss: 0.2333 - accuracy: 0.9154 - val_loss: 0.2046 - val_accuracy: 0.9223\n",
      "Epoch 10/100\n",
      "848/848 [==============================] - 5s 6ms/step - loss: 0.2284 - accuracy: 0.9169 - val_loss: 0.2112 - val_accuracy: 0.9185\n",
      "Epoch 11/100\n",
      "848/848 [==============================] - 5s 6ms/step - loss: 0.2184 - accuracy: 0.9195 - val_loss: 0.2022 - val_accuracy: 0.9241\n",
      "Epoch 12/100\n",
      "848/848 [==============================] - 5s 6ms/step - loss: 0.2136 - accuracy: 0.9221 - val_loss: 0.1899 - val_accuracy: 0.9295\n",
      "Epoch 13/100\n",
      "848/848 [==============================] - 5s 6ms/step - loss: 0.2091 - accuracy: 0.9237 - val_loss: 0.1911 - val_accuracy: 0.9326\n",
      "Epoch 14/100\n",
      "848/848 [==============================] - 5s 6ms/step - loss: 0.2048 - accuracy: 0.9256 - val_loss: 0.1799 - val_accuracy: 0.9313\n",
      "Epoch 15/100\n",
      "848/848 [==============================] - 5s 6ms/step - loss: 0.1992 - accuracy: 0.9269 - val_loss: 0.1929 - val_accuracy: 0.9300\n",
      "Epoch 16/100\n",
      "848/848 [==============================] - 5s 6ms/step - loss: 0.1951 - accuracy: 0.9304 - val_loss: 0.1808 - val_accuracy: 0.9324\n",
      "Epoch 17/100\n",
      "848/848 [==============================] - 5s 6ms/step - loss: 0.1939 - accuracy: 0.9290 - val_loss: 0.1655 - val_accuracy: 0.9394\n",
      "Epoch 18/100\n",
      "848/848 [==============================] - 5s 6ms/step - loss: 0.1893 - accuracy: 0.9321 - val_loss: 0.1666 - val_accuracy: 0.9412\n",
      "Epoch 19/100\n",
      "848/848 [==============================] - 5s 6ms/step - loss: 0.1855 - accuracy: 0.9335 - val_loss: 0.1743 - val_accuracy: 0.9384\n",
      "Epoch 20/100\n",
      "848/848 [==============================] - 5s 6ms/step - loss: 0.1806 - accuracy: 0.9349 - val_loss: 0.1697 - val_accuracy: 0.9421\n",
      "Epoch 21/100\n",
      "848/848 [==============================] - 5s 6ms/step - loss: 0.1780 - accuracy: 0.9356 - val_loss: 0.1590 - val_accuracy: 0.9419\n",
      "Epoch 22/100\n",
      "848/848 [==============================] - 5s 6ms/step - loss: 0.1764 - accuracy: 0.9356 - val_loss: 0.1498 - val_accuracy: 0.9411\n",
      "Epoch 23/100\n",
      "848/848 [==============================] - 5s 6ms/step - loss: 0.1739 - accuracy: 0.9375 - val_loss: 0.1567 - val_accuracy: 0.9447\n",
      "Epoch 24/100\n",
      "848/848 [==============================] - 6s 6ms/step - loss: 0.1745 - accuracy: 0.9371 - val_loss: 0.1601 - val_accuracy: 0.9406\n",
      "Epoch 25/100\n",
      "848/848 [==============================] - 5s 6ms/step - loss: 0.1692 - accuracy: 0.9388 - val_loss: 0.1506 - val_accuracy: 0.9452\n",
      "Epoch 26/100\n",
      "848/848 [==============================] - 5s 6ms/step - loss: 0.1666 - accuracy: 0.9400 - val_loss: 0.1493 - val_accuracy: 0.9434\n",
      "Epoch 27/100\n",
      "848/848 [==============================] - 5s 6ms/step - loss: 0.1649 - accuracy: 0.9419 - val_loss: 0.1462 - val_accuracy: 0.9474\n",
      "Epoch 28/100\n",
      "848/848 [==============================] - 5s 6ms/step - loss: 0.1668 - accuracy: 0.9411 - val_loss: 0.1473 - val_accuracy: 0.9484\n",
      "Epoch 29/100\n",
      "848/848 [==============================] - 5s 6ms/step - loss: 0.1634 - accuracy: 0.9402 - val_loss: 0.1439 - val_accuracy: 0.9444\n",
      "Epoch 30/100\n",
      "848/848 [==============================] - 5s 6ms/step - loss: 0.1648 - accuracy: 0.9403 - val_loss: 0.1564 - val_accuracy: 0.9456\n",
      "Epoch 31/100\n",
      "848/848 [==============================] - 5s 6ms/step - loss: 0.1560 - accuracy: 0.9439 - val_loss: 0.1569 - val_accuracy: 0.9490\n",
      "Epoch 32/100\n",
      "848/848 [==============================] - 5s 6ms/step - loss: 0.1579 - accuracy: 0.9440 - val_loss: 0.1416 - val_accuracy: 0.9494\n",
      "Epoch 33/100\n",
      "848/848 [==============================] - 5s 6ms/step - loss: 0.1567 - accuracy: 0.9444 - val_loss: 0.1494 - val_accuracy: 0.9451\n",
      "Epoch 34/100\n",
      "848/848 [==============================] - 5s 6ms/step - loss: 0.1555 - accuracy: 0.9455 - val_loss: 0.1384 - val_accuracy: 0.9509\n",
      "Epoch 35/100\n",
      "848/848 [==============================] - 5s 6ms/step - loss: 0.1536 - accuracy: 0.9456 - val_loss: 0.1408 - val_accuracy: 0.9490\n",
      "Epoch 36/100\n",
      "848/848 [==============================] - 5s 6ms/step - loss: 0.1518 - accuracy: 0.9460 - val_loss: 0.1412 - val_accuracy: 0.9476\n",
      "Epoch 37/100\n",
      "848/848 [==============================] - 5s 6ms/step - loss: 0.1496 - accuracy: 0.9455 - val_loss: 0.1359 - val_accuracy: 0.9515\n",
      "Epoch 38/100\n",
      "848/848 [==============================] - 5s 6ms/step - loss: 0.1514 - accuracy: 0.9453 - val_loss: 0.1307 - val_accuracy: 0.9520\n",
      "Epoch 39/100\n",
      "848/848 [==============================] - 5s 6ms/step - loss: 0.1494 - accuracy: 0.9463 - val_loss: 0.1288 - val_accuracy: 0.9529\n",
      "Epoch 40/100\n",
      "848/848 [==============================] - 5s 6ms/step - loss: 0.1512 - accuracy: 0.9471 - val_loss: 0.1267 - val_accuracy: 0.9522\n",
      "Epoch 41/100\n",
      "848/848 [==============================] - 5s 6ms/step - loss: 0.1480 - accuracy: 0.9474 - val_loss: 0.1352 - val_accuracy: 0.9510\n",
      "Epoch 42/100\n",
      "848/848 [==============================] - 6s 7ms/step - loss: 0.1453 - accuracy: 0.9484 - val_loss: 0.1335 - val_accuracy: 0.9492\n",
      "Epoch 43/100\n",
      "848/848 [==============================] - 5s 6ms/step - loss: 0.1483 - accuracy: 0.9465 - val_loss: 0.1303 - val_accuracy: 0.9550\n",
      "Epoch 44/100\n",
      "848/848 [==============================] - 5s 6ms/step - loss: 0.1400 - accuracy: 0.9492 - val_loss: 0.1333 - val_accuracy: 0.9534\n",
      "Epoch 45/100\n",
      "848/848 [==============================] - 5s 6ms/step - loss: 0.1438 - accuracy: 0.9497 - val_loss: 0.1472 - val_accuracy: 0.9539\n"
     ]
    }
   ],
   "source": [
    "# define early stopping to stop training after 5 epochs of not improving\n",
    "early_stopping = EarlyStopping(mode=\"min\", patience=5, restore_best_weights=True)\n",
    "\n",
    "batch_size = 64\n",
    "epochs = 100\n",
    "# train the model using the training set and validating using validation set\n",
    "history = model.fit(data[\"X_train\"], data[\"y_train\"], epochs=epochs, batch_size=batch_size, validation_data=(data[\"X_valid\"], data[\"y_valid\"]),\n",
    "          callbacks=[early_stopping])"
   ]
  },
  {
   "cell_type": "markdown",
   "id": "21452eed",
   "metadata": {},
   "source": [
    "`history` contains the model accuracy and loss on the test and training dataset at the end of each epoch. Line plots of these measures over training epochs provide learning curves that we can use to get an idea of whether the model is overfitting, underfitting, or has a good fit.\n",
    "\n",
    "The `summarize_diagnostics()` function below takes the history directory and creates a single figure with a line plot of the loss and another for the accuracy. The figure is then saved to file with a filename based on the name of the script. This is helpful if we wish to evaluate many variations of the model in different files and create line plots automatically for each."
   ]
  },
  {
   "cell_type": "code",
   "execution_count": 15,
   "id": "534e5ad2",
   "metadata": {},
   "outputs": [],
   "source": [
    "import matplotlib.pyplot as plt\n",
    "\n",
    "# plot diagnostic learning curves\n",
    "def summarize_diagnostics(history, model_name):\n",
    "    fig, axs = plt.subplots(2, 1, figsize=(10, 5))\n",
    "    \n",
    "    # plot loss\n",
    "    axs[0].plot(history.history['loss'], color='blue', label='train')\n",
    "    axs[0].plot(history.history['val_loss'], color='orange', label='val')\n",
    "    axs[0].set_title(f'{model_name} - Cross Entropy Loss')\n",
    "    axs[0].legend()\n",
    "    axs[0].grid(True)\n",
    "    \n",
    "    # plot accuracy\n",
    "    plt.title(f' {model_name} - Classification Accuracy')\n",
    "    axs[1].plot(history.history['accuracy'], color='blue', label='train')\n",
    "    axs[1].plot(history.history['val_accuracy'], color='orange', label='val')\n",
    "    axs[1].set_title(f' {model_name} - Classification Accuracy')\n",
    "    axs[1].legend()\n",
    "    axs[1].grid(True)\n",
    "    \n",
    "    # Adjust the spacing between subplots (left, right, bottom, top)\n",
    "    plt.subplots_adjust(wspace=0.5, hspace=0.5)\n",
    "    \n",
    "    if not os.path.isdir('img/plots/'):\n",
    "        os.makedirs('img/plots/')\n",
    "    # save plot to file\n",
    "    plt.savefig('img/plots/' + model_name + '_plot.png')\n",
    "    plt.show()\n",
    "    plt.close()"
   ]
  },
  {
   "cell_type": "code",
   "execution_count": 16,
   "id": "93fe3f40",
   "metadata": {},
   "outputs": [
    {
     "data": {
      "image/png": "[encoded data removed]",
      "text/plain": [
       "<Figure size 1000x500 with 2 Axes>"
      ]
     },
     "metadata": {},
     "output_type": "display_data"
    }
   ],
   "source": [
    "# learning curves\n",
    "summarize_diagnostics(history, 'DNN_5_layers')"
   ]
  },
  {
   "cell_type": "code",
   "execution_count": 17,
   "id": "0c45ece7",
   "metadata": {},
   "outputs": [],
   "source": [
    "# save the model to a file\n",
    "if not os.path.isdir('models/'):\n",
    "        os.makedirs('models/')\n",
    "model.save(\"models/model.h5\")"
   ]
  },
  {
   "cell_type": "markdown",
   "id": "f195d453",
   "metadata": {},
   "source": [
    "## Testing the model\n",
    "Since the model now is trained and the weights are optimal, let's test it using the testing set we created earlier:"
   ]
  },
  {
   "cell_type": "code",
   "execution_count": 18,
   "id": "53e618e3",
   "metadata": {},
   "outputs": [
    {
     "name": "stdout",
     "output_type": "stream",
     "text": [
      "Evaluating the model using 6694 samples...\n",
      "Loss: 0.1290\n",
      "Accuracy: 95.55%\n"
     ]
    }
   ],
   "source": [
    "# evaluating the model using the testing set\n",
    "print(f\"Evaluating the model using {len(data['X_test'])} samples...\")\n",
    "loss, accuracy = model.evaluate(data[\"X_test\"], data[\"y_test\"], verbose=0)\n",
    "print(f\"Loss: {loss:.4f}\")\n",
    "print(f\"Accuracy: {accuracy*100:.2f}%\")"
   ]
  },
  {
   "cell_type": "markdown",
   "id": "f947131e",
   "metadata": {},
   "source": [
    "Excellent, we've reached 95.55% accuracy on samples that the model has never seen before. **Some other combination of feature extraction techniques have been tried but this one is the most effective**."
   ]
  },
  {
   "cell_type": "markdown",
   "id": "5049b8a0",
   "metadata": {},
   "source": [
    "## Testing the Model with your own Voice\n",
    "In order to test if the model is really working well, I've made a script that records your voice until you stop speaking (you can talk in any language, though) and save it to a file, then extract features from that audio and feed it to the model to retrieve results.\n",
    "\n",
    "** To test the model with you own voice, juss"
   ]
  }
 ],
 "metadata": {
  "kernelspec": {
   "display_name": "Python 3 (ipykernel)",
   "language": "python",
   "name": "python3"
  },
  "language_info": {
   "codemirror_mode": {
    "name": "ipython",
    "version": 3
   },
   "file_extension": ".py",
   "mimetype": "text/x-python",
   "name": "python",
   "nbconvert_exporter": "python",
   "pygments_lexer": "ipython3",
   "version": "3.10.12"
  }
 },
 "nbformat": 4,
 "nbformat_minor": 5
}
